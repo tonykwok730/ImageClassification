{
  "nbformat": 4,
  "nbformat_minor": 0,
  "metadata": {
    "colab": {
      "name": "covid_detection.ipynb",
      "provenance": [],
      "mount_file_id": "1G9JT_XrFiFWNiZ8r8qrfulD1WBeGubHt",
      "authorship_tag": "ABX9TyPTovzfApMmrCm4qQU22J6u",
      "include_colab_link": true
    },
    "kernelspec": {
      "name": "python3",
      "display_name": "Python 3"
    },
    "accelerator": "GPU"
  },
  "cells": [
    {
      "cell_type": "markdown",
      "metadata": {
        "id": "view-in-github",
        "colab_type": "text"
      },
      "source": [
        "<a href=\"https://colab.research.google.com/github/tonykwok730/ImageClassification/blob/main/covid_detection.ipynb\" target=\"_parent\"><img src=\"https://colab.research.google.com/assets/colab-badge.svg\" alt=\"Open In Colab\"/></a>"
      ]
    },
    {
      "cell_type": "code",
      "metadata": {
        "id": "d_jJIKmS9tOB"
      },
      "source": [
        "import tensorflow as tf\r\n",
        "from tensorflow import keras\r\n",
        "from tensorflow.keras.models import Sequential\r\n",
        "from tensorflow.keras.preprocessing.image import ImageDataGenerator\r\n",
        "from tensorflow.keras.optimizers import Adam\r\n",
        "\r\n",
        "from sklearn.metrics import classification_report\r\n",
        "from sklearn.metrics import confusion_matrix\r\n",
        "\r\n",
        "from tensorflow.keras.callbacks import EarlyStopping\r\n",
        "from tensorflow.keras import Input, layers\r\n",
        "\r\n",
        "import matplotlib.pyplot as plt\r\n",
        "import numpy as np"
      ],
      "execution_count": null,
      "outputs": []
    },
    {
      "cell_type": "code",
      "metadata": {
        "id": "MBdVmfd-_PhB"
      },
      "source": [
        "#Create image data generators\r\n",
        "training_data_generator = ImageDataGenerator(\r\n",
        "    rescale = 1.0/255,\r\n",
        "    zoom_range = 0.2,\r\n",
        "    rotation_range = 15,\r\n",
        "    width_shift_range = 0.05,\r\n",
        "    height_shift_range = 0.05 \r\n",
        ")\r\n",
        "\r\n",
        "validating_data_generator = ImageDataGenerator(rescale = 1.0/255)"
      ],
      "execution_count": null,
      "outputs": []
    },
    {
      "cell_type": "code",
      "metadata": {
        "colab": {
          "base_uri": "https://localhost:8080/"
        },
        "id": "UNZ0LQ4u9AtS",
        "outputId": "9642f097-9c3d-41e9-d2b4-f1ea6ce90fa9"
      },
      "source": [
        "#Create iterators and import images\r\n",
        "\r\n",
        "training_iterator = training_data_generator.flow_from_directory('/content/drive/MyDrive/Colab Notebooks/ImageClassification/Covid19-dataset/train', color_mode='grayscale', batch_size=32, class_mode='categorical')\r\n",
        "\r\n",
        "validating_iterator = validating_data_generator.flow_from_directory('/content/drive/MyDrive/Colab Notebooks/ImageClassification/Covid19-dataset/test', color_mode='grayscale', batch_size=32, class_mode='categorical')"
      ],
      "execution_count": null,
      "outputs": [
        {
          "output_type": "stream",
          "text": [
            "Found 251 images belonging to 3 classes.\n",
            "Found 66 images belonging to 3 classes.\n"
          ],
          "name": "stdout"
        }
      ]
    },
    {
      "cell_type": "code",
      "metadata": {
        "colab": {
          "base_uri": "https://localhost:8080/"
        },
        "id": "UCyJxI3e9mQW",
        "outputId": "3b5df130-6dc8-456e-eb0d-5da3a3b1240f"
      },
      "source": [
        "#Build the neural network model \r\n",
        "\r\n",
        "model = Sequential()\r\n",
        "model.add(Input(shape=(255, 255, 1)))\r\n",
        "model.add(layers.Conv2D(6, 4, strides=2, activation='relu'))\r\n",
        "model.add(layers.MaxPooling2D(pool_size=(3,3), strides=(3,3)))\r\n",
        "model.add(layers.Conv2D(6, 4, strides=2, activation='relu'))\r\n",
        "model.add(layers.MaxPooling2D(pool_size=(3,3), strides=(3,3)))\r\n",
        "model.add(layers.Flatten())\r\n",
        "model.add(layers.Dense(32, activation='relu'))\r\n",
        "model.add(layers.Dense(8, activation='relu'))\r\n",
        "model.add(layers.Dense(3, activation='softmax'))\r\n",
        "\r\n",
        "print(model.summary())\r\n",
        "# No. of parameters = 7919"
      ],
      "execution_count": null,
      "outputs": [
        {
          "output_type": "stream",
          "text": [
            "Model: \"sequential_3\"\n",
            "_________________________________________________________________\n",
            "Layer (type)                 Output Shape              Param #   \n",
            "=================================================================\n",
            "conv2d_6 (Conv2D)            (None, 126, 126, 6)       102       \n",
            "_________________________________________________________________\n",
            "max_pooling2d_6 (MaxPooling2 (None, 42, 42, 6)         0         \n",
            "_________________________________________________________________\n",
            "conv2d_7 (Conv2D)            (None, 20, 20, 6)         582       \n",
            "_________________________________________________________________\n",
            "max_pooling2d_7 (MaxPooling2 (None, 6, 6, 6)           0         \n",
            "_________________________________________________________________\n",
            "flatten_3 (Flatten)          (None, 216)               0         \n",
            "_________________________________________________________________\n",
            "dense_9 (Dense)              (None, 32)                6944      \n",
            "_________________________________________________________________\n",
            "dense_10 (Dense)             (None, 8)                 264       \n",
            "_________________________________________________________________\n",
            "dense_11 (Dense)             (None, 3)                 27        \n",
            "=================================================================\n",
            "Total params: 7,919\n",
            "Trainable params: 7,919\n",
            "Non-trainable params: 0\n",
            "_________________________________________________________________\n",
            "None\n"
          ],
          "name": "stdout"
        }
      ]
    },
    {
      "cell_type": "code",
      "metadata": {
        "id": "hWoq-TLFDpq7"
      },
      "source": [
        "#Compile the model\r\n",
        "\r\n",
        "model.compile(\r\n",
        "    optimizer = Adam(learning_rate=0.01), \r\n",
        "    loss = tf.keras.losses.CategoricalCrossentropy(),\r\n",
        "    metrics = [tf.keras.metrics.CategoricalAccuracy(), tf.keras.metrics.AUC()])\r\n",
        "\r\n"
      ],
      "execution_count": null,
      "outputs": []
    },
    {
      "cell_type": "code",
      "metadata": {
        "colab": {
          "base_uri": "https://localhost:8080/"
        },
        "id": "ePqg83sBE9zr",
        "outputId": "93a70e68-8fb9-49b1-9011-1b8d66ee09a5"
      },
      "source": [
        "#Fit the model to train the data\r\n",
        "\r\n",
        "model.fit(training_iterator,\r\n",
        "          steps_per_epoch = training_iterator.samples//32,\r\n",
        "          epochs = 10,\r\n",
        "          validation_data = validating_iterator,\r\n",
        "          validation_steps = validating_iterator.samples//32)"
      ],
      "execution_count": null,
      "outputs": [
        {
          "output_type": "stream",
          "text": [
            "Epoch 1/10\n",
            "7/7 [==============================] - 40s 7s/step - loss: 1.1143 - categorical_accuracy: 0.4585 - auc_1: 0.5795 - val_loss: 1.0937 - val_categorical_accuracy: 0.3906 - val_auc_1: 0.5405\n",
            "Epoch 2/10\n",
            "7/7 [==============================] - 2s 321ms/step - loss: 1.0540 - categorical_accuracy: 0.4818 - auc_1: 0.6162 - val_loss: 1.0281 - val_categorical_accuracy: 0.4062 - val_auc_1: 0.7164\n",
            "Epoch 3/10\n",
            "7/7 [==============================] - 2s 323ms/step - loss: 0.9888 - categorical_accuracy: 0.4789 - auc_1: 0.7506 - val_loss: 0.9939 - val_categorical_accuracy: 0.4219 - val_auc_1: 0.7105\n",
            "Epoch 4/10\n",
            "7/7 [==============================] - 2s 325ms/step - loss: 0.8716 - categorical_accuracy: 0.5964 - auc_1: 0.8121 - val_loss: 0.6981 - val_categorical_accuracy: 0.7344 - val_auc_1: 0.8859\n",
            "Epoch 5/10\n",
            "7/7 [==============================] - 2s 345ms/step - loss: 0.6317 - categorical_accuracy: 0.6963 - auc_1: 0.8949 - val_loss: 0.6365 - val_categorical_accuracy: 0.6562 - val_auc_1: 0.9014\n",
            "Epoch 6/10\n",
            "7/7 [==============================] - 2s 321ms/step - loss: 0.5389 - categorical_accuracy: 0.7647 - auc_1: 0.9222 - val_loss: 0.4598 - val_categorical_accuracy: 0.7656 - val_auc_1: 0.9418\n",
            "Epoch 7/10\n",
            "7/7 [==============================] - 2s 318ms/step - loss: 0.4039 - categorical_accuracy: 0.8426 - auc_1: 0.9563 - val_loss: 0.4807 - val_categorical_accuracy: 0.7500 - val_auc_1: 0.9359\n",
            "Epoch 8/10\n",
            "7/7 [==============================] - 2s 315ms/step - loss: 0.5773 - categorical_accuracy: 0.7495 - auc_1: 0.9107 - val_loss: 0.5771 - val_categorical_accuracy: 0.7031 - val_auc_1: 0.9023\n",
            "Epoch 9/10\n",
            "7/7 [==============================] - 2s 316ms/step - loss: 0.4693 - categorical_accuracy: 0.8099 - auc_1: 0.9426 - val_loss: 0.7165 - val_categorical_accuracy: 0.6406 - val_auc_1: 0.8538\n",
            "Epoch 10/10\n",
            "7/7 [==============================] - 2s 316ms/step - loss: 0.5060 - categorical_accuracy: 0.7871 - auc_1: 0.9306 - val_loss: 0.4799 - val_categorical_accuracy: 0.7812 - val_auc_1: 0.9382\n"
          ],
          "name": "stdout"
        },
        {
          "output_type": "execute_result",
          "data": {
            "text/plain": [
              "<tensorflow.python.keras.callbacks.History at 0x7f50202f9dd8>"
            ]
          },
          "metadata": {
            "tags": []
          },
          "execution_count": 15
        }
      ]
    },
    {
      "cell_type": "code",
      "metadata": {
        "id": "X6ak4INqHV3C"
      },
      "source": [
        ""
      ],
      "execution_count": null,
      "outputs": []
    }
  ]
}